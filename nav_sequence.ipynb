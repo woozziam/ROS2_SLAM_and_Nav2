{
 "cells": [
  {
   "cell_type": "code",
   "execution_count": 1,
   "metadata": {},
   "outputs": [],
   "source": [
    "from nav2_simple_commander.robot_navigator import BasicNavigator\n",
    "import rclpy\n",
    "\n",
    "rclpy.init()\n",
    "nav = BasicNavigator()"
   ]
  },
  {
   "cell_type": "code",
   "execution_count": 2,
   "metadata": {},
   "outputs": [
    {
     "name": "stderr",
     "output_type": "stream",
     "text": [
      "[INFO] [1714379051.322712199] [basic_navigator]: Nav2 is ready for use!\n"
     ]
    }
   ],
   "source": [
    "nav.waitUntilNav2Active()"
   ]
  },
  {
   "cell_type": "code",
   "execution_count": 3,
   "metadata": {},
   "outputs": [],
   "source": [
    "targets = [\n",
    "    (5.016765594482422, -0.4689096212387085),\n",
    "    (7.374703407287598, -2.059877634048462),\n",
    "    (7.6201348304748535, -3.5875611305236816),\n",
    "    (6.3934855461120605, -4.9701972007751465),\n",
    "    (5.41149377822876, -5.1479692459106445),\n",
    "    (4.396528244018555, -6.802720069885254),\n",
    "    (4.625077724456787, -7.899134159088135),\n",
    "    (7.201889514923096, -8.040702819824219),\n",
    "    (7.470551013946533, -7.117720603942871),\n",
    "    (6.681667327880859, -5.208526611328125),\n",
    "    (5.966538429260254, -4.8936944007873535),\n",
    "    (4.098639011383057, -4.80463981628418),\n",
    "    (1.151018738746643, -2.231051445007324),\n",
    "    (-0.16099627315998077, -3.0481438636779785),\n",
    "    (-0.17626561224460602, -6.509843826293945),\n",
    "    (2.3498172760009766, -7.322762489318848)\n",
    "]"
   ]
  },
  {
   "cell_type": "code",
   "execution_count": 4,
   "metadata": {},
   "outputs": [],
   "source": [
    "import numpy as np\n",
    "from tf_transformations import quaternion_from_euler\n",
    "\n",
    "def get_orient(x, X, y, Y):\n",
    "    angle = np.arctan2(Y-y, X-x)\n",
    "    quaternion = quaternion_from_euler(0, 0, angle)\n",
    "\n",
    "    return quaternion"
   ]
  },
  {
   "cell_type": "code",
   "execution_count": 5,
   "metadata": {},
   "outputs": [
    {
     "data": {
      "text/plain": [
       "[(0.0, 0.0, -0.2924440144233201, 0.9562826456795988),\n",
       " (0.0, 0.0, -0.6486054519308815, 0.7611248043031688),\n",
       " (0.0, 0.0, -0.9120444365044474, 0.4100913871825218),\n",
       " (0.0, 0.0, -0.9959934137472807, 0.08942661668674598),\n",
       " (0.0, 0.0, -0.8725960991147732, 0.4884424713409768),\n",
       " (0.0, 0.0, -0.6308464972396496, 0.7759076600475502),\n",
       " (0.0, 0.0, -0.027438700465923695, 0.9996234879777192),\n",
       " (0.0, 0.0, 0.6002163466140376, 0.7998376943213527),\n",
       " (0.0, 0.0, 0.8312297162631647, 0.555929095120105),\n",
       " (0.0, 0.0, 0.9785786165990299, 0.20587348332198824),\n",
       " (0.0, 0.0, 0.9997163141950751, 0.023817874216936652),\n",
       " (0.0, 0.0, 0.9362913204682285, 0.35122437730866723),\n",
       " (0.0, 0.0, -0.9614690331817812, 0.27491325583261883),\n",
       " (0.0, 0.0, -0.7086645517084903, 0.7055455712792792),\n",
       " (0.0, 0.0, -0.1550439723733088, 0.9879075698822763),\n",
       " (0, 0, 0, 1)]"
      ]
     },
     "execution_count": 5,
     "metadata": {},
     "output_type": "execute_result"
    }
   ],
   "source": [
    "quaternions = []\n",
    "\n",
    "for i in range(len(targets)): \n",
    "    if i < len(targets)-1:\n",
    "        quaternion = get_orient(targets[i][0], targets[i+1][0], targets[i][1], targets[i+1][1])\n",
    "    else:\n",
    "        quaternion = (0, 0, 0, 1)\n",
    "\n",
    "    quaternions.append(quaternion)\n",
    "\n",
    "quaternions\n"
   ]
  },
  {
   "cell_type": "code",
   "execution_count": 6,
   "metadata": {},
   "outputs": [
    {
     "name": "stderr",
     "output_type": "stream",
     "text": [
      "[INFO] [1714379051.415598309] [basic_navigator]: Navigating to goal: 5.016765594482422 -0.4689096212387085...\n"
     ]
    },
    {
     "name": "stdout",
     "output_type": "stream",
     "text": [
      "목표에 성공적으로 도달했습니다.\n"
     ]
    },
    {
     "name": "stderr",
     "output_type": "stream",
     "text": [
      "[INFO] [1714379071.882399005] [basic_navigator]: Navigating to goal: 7.374703407287598 -2.059877634048462...\n"
     ]
    },
    {
     "name": "stdout",
     "output_type": "stream",
     "text": [
      "목표에 성공적으로 도달했습니다.\n"
     ]
    },
    {
     "name": "stderr",
     "output_type": "stream",
     "text": [
      "[INFO] [1714379087.100010500] [basic_navigator]: Navigating to goal: 7.6201348304748535 -3.5875611305236816...\n"
     ]
    },
    {
     "name": "stdout",
     "output_type": "stream",
     "text": [
      "목표에 성공적으로 도달했습니다.\n"
     ]
    },
    {
     "name": "stderr",
     "output_type": "stream",
     "text": [
      "[INFO] [1714379096.313941262] [basic_navigator]: Navigating to goal: 6.3934855461120605 -4.9701972007751465...\n"
     ]
    },
    {
     "name": "stdout",
     "output_type": "stream",
     "text": [
      "목표에 성공적으로 도달했습니다.\n"
     ]
    },
    {
     "name": "stderr",
     "output_type": "stream",
     "text": [
      "[INFO] [1714379106.328573641] [basic_navigator]: Navigating to goal: 5.41149377822876 -5.1479692459106445...\n"
     ]
    },
    {
     "name": "stdout",
     "output_type": "stream",
     "text": [
      "목표에 성공적으로 도달했습니다.\n"
     ]
    },
    {
     "name": "stderr",
     "output_type": "stream",
     "text": [
      "[INFO] [1714379112.894607108] [basic_navigator]: Navigating to goal: 4.396528244018555 -6.802720069885254...\n"
     ]
    },
    {
     "name": "stdout",
     "output_type": "stream",
     "text": [
      "목표에 성공적으로 도달했습니다.\n"
     ]
    },
    {
     "name": "stderr",
     "output_type": "stream",
     "text": [
      "[INFO] [1714379123.409615242] [basic_navigator]: Navigating to goal: 4.625077724456787 -7.899134159088135...\n"
     ]
    },
    {
     "name": "stdout",
     "output_type": "stream",
     "text": [
      "목표에 성공적으로 도달했습니다.\n"
     ]
    },
    {
     "name": "stderr",
     "output_type": "stream",
     "text": [
      "[INFO] [1714379131.174722561] [basic_navigator]: Navigating to goal: 7.201889514923096 -8.040702819824219...\n"
     ]
    },
    {
     "name": "stdout",
     "output_type": "stream",
     "text": [
      "목표에 성공적으로 도달했습니다.\n"
     ]
    },
    {
     "name": "stderr",
     "output_type": "stream",
     "text": [
      "[INFO] [1714379145.141332464] [basic_navigator]: Navigating to goal: 7.470551013946533 -7.117720603942871...\n"
     ]
    },
    {
     "name": "stdout",
     "output_type": "stream",
     "text": [
      "목표에 성공적으로 도달했습니다.\n"
     ]
    },
    {
     "name": "stderr",
     "output_type": "stream",
     "text": [
      "[INFO] [1714379150.557342153] [basic_navigator]: Navigating to goal: 6.681667327880859 -5.208526611328125...\n"
     ]
    },
    {
     "name": "stdout",
     "output_type": "stream",
     "text": [
      "목표에 성공적으로 도달했습니다.\n"
     ]
    },
    {
     "name": "stderr",
     "output_type": "stream",
     "text": [
      "[INFO] [1714379160.771987009] [basic_navigator]: Navigating to goal: 5.966538429260254 -4.8936944007873535...\n"
     ]
    },
    {
     "name": "stdout",
     "output_type": "stream",
     "text": [
      "목표에 성공적으로 도달했습니다.\n"
     ]
    },
    {
     "name": "stderr",
     "output_type": "stream",
     "text": [
      "[INFO] [1714379165.536474688] [basic_navigator]: Navigating to goal: 4.098639011383057 -4.80463981628418...\n"
     ]
    },
    {
     "name": "stdout",
     "output_type": "stream",
     "text": [
      "목표에 성공적으로 도달했습니다.\n"
     ]
    },
    {
     "name": "stderr",
     "output_type": "stream",
     "text": [
      "[INFO] [1714379174.553571540] [basic_navigator]: Navigating to goal: 1.151018738746643 -2.231051445007324...\n"
     ]
    },
    {
     "name": "stdout",
     "output_type": "stream",
     "text": [
      "목표에 성공적으로 도달했습니다.\n"
     ]
    },
    {
     "name": "stderr",
     "output_type": "stream",
     "text": [
      "[INFO] [1714379194.069915874] [basic_navigator]: Navigating to goal: -0.16099627315998077 -3.0481438636779785...\n"
     ]
    },
    {
     "name": "stdout",
     "output_type": "stream",
     "text": [
      "목표에 성공적으로 도달했습니다.\n"
     ]
    },
    {
     "name": "stderr",
     "output_type": "stream",
     "text": [
      "[INFO] [1714379203.234768501] [basic_navigator]: Navigating to goal: -0.17626561224460602 -6.509843826293945...\n"
     ]
    },
    {
     "name": "stdout",
     "output_type": "stream",
     "text": [
      "목표에 성공적으로 도달했습니다.\n"
     ]
    },
    {
     "name": "stderr",
     "output_type": "stream",
     "text": [
      "[INFO] [1714379220.499733753] [basic_navigator]: Navigating to goal: 2.3498172760009766 -7.322762489318848...\n"
     ]
    },
    {
     "name": "stdout",
     "output_type": "stream",
     "text": [
      "목표에 성공적으로 도달했습니다.\n"
     ]
    }
   ],
   "source": [
    "from geometry_msgs.msg import PoseStamped\n",
    "from nav2_simple_commander.robot_navigator import TaskResult\n",
    "\n",
    "cnt = 0\n",
    "\n",
    "for target in targets:\n",
    "    \n",
    "    goal_pose = PoseStamped()\n",
    "    goal_pose.header.frame_id = 'map'\n",
    "    goal_pose.header.stamp = nav.get_clock().now().to_msg()\n",
    "\n",
    "    goal_pose.pose.position.x = target[0]\n",
    "    goal_pose.pose.position.y = target[1]\n",
    "\n",
    "    goal_pose.pose.orientation.x = float(quaternions[cnt][0])\n",
    "    goal_pose.pose.orientation.y = float(quaternions[cnt][1])\n",
    "    goal_pose.pose.orientation.z = float(quaternions[cnt][2])\n",
    "    goal_pose.pose.orientation.w = float(quaternions[cnt][3])\n",
    "\n",
    "    nav.goToPose(goal_pose)\n",
    "\n",
    "    while not nav.isTaskComplete():\n",
    "        rclpy.spin_once(nav)\n",
    "\n",
    "    result = nav.getResult()\n",
    "    if result == TaskResult.SUCCEEDED:\n",
    "        print(\"목표에 성공적으로 도달했습니다.\")\n",
    "    elif result == TaskResult.CANCELED:\n",
    "        print(\"이동 작업이 취소되었습니다.\")\n",
    "    elif result == TaskResult.FAILED:\n",
    "        print(\"이동 작업이 실패했습니다.\")\n",
    "    else:\n",
    "        print(\"알 수 없는 이동 결과입니다.\")\n",
    "\n",
    "    cnt += 1\n",
    "\n",
    "nav.destroy_node()\n",
    "rclpy.shutdown()  "
   ]
  }
 ],
 "metadata": {
  "kernelspec": {
   "display_name": "Python 3",
   "language": "python",
   "name": "python3"
  },
  "language_info": {
   "codemirror_mode": {
    "name": "ipython",
    "version": 3
   },
   "file_extension": ".py",
   "mimetype": "text/x-python",
   "name": "python",
   "nbconvert_exporter": "python",
   "pygments_lexer": "ipython3",
   "version": "3.10.12"
  }
 },
 "nbformat": 4,
 "nbformat_minor": 2
}
